{
 "cells": [
  {
   "cell_type": "code",
   "execution_count": 1,
   "id": "e843fc2c",
   "metadata": {},
   "outputs": [],
   "source": [
    "import math\n",
    "import pandas as pd\n",
    "import numpy as np\n",
    "import seaborn as sns\n",
    "import matplotlib.pyplot as plt"
   ]
  },
  {
   "cell_type": "markdown",
   "id": "494b4e5b",
   "metadata": {},
   "source": [
    "# Analysis and modification of training dataset"
   ]
  },
  {
   "cell_type": "code",
   "execution_count": 2,
   "id": "a997d8dd",
   "metadata": {},
   "outputs": [],
   "source": [
    "# Loading training data\n",
    "train = pd.read_csv('/Users/michalpoleszczuk/Desktop/data_DS_HW_train.csv', sep=';')"
   ]
  },
  {
   "cell_type": "code",
   "execution_count": 3,
   "id": "b034455a",
   "metadata": {},
   "outputs": [
    {
     "data": {
      "text/html": [
       "<div>\n",
       "<style scoped>\n",
       "    .dataframe tbody tr th:only-of-type {\n",
       "        vertical-align: middle;\n",
       "    }\n",
       "\n",
       "    .dataframe tbody tr th {\n",
       "        vertical-align: top;\n",
       "    }\n",
       "\n",
       "    .dataframe thead th {\n",
       "        text-align: right;\n",
       "    }\n",
       "</style>\n",
       "<table border=\"1\" class=\"dataframe\">\n",
       "  <thead>\n",
       "    <tr style=\"text-align: right;\">\n",
       "      <th></th>\n",
       "      <th>application_id</th>\n",
       "      <th>loan_date_created</th>\n",
       "      <th>activeloan_coalt</th>\n",
       "      <th>applicationamount</th>\n",
       "      <th>applicationprice</th>\n",
       "      <th>avgbetweenapplications</th>\n",
       "      <th>avgbetweenapprovedapplications</th>\n",
       "      <th>avgextensions</th>\n",
       "      <th>avgloanterm</th>\n",
       "      <th>countapplicationsafterlastloanclose</th>\n",
       "      <th>...</th>\n",
       "      <th>informationcount</th>\n",
       "      <th>debtorscount</th>\n",
       "      <th>creditorscount</th>\n",
       "      <th>amount</th>\n",
       "      <th>providerscount</th>\n",
       "      <th>paidobligationscount</th>\n",
       "      <th>averagepaiddebt</th>\n",
       "      <th>averagepaymenttimeindays</th>\n",
       "      <th>sumpaiddebt</th>\n",
       "      <th>TARGET</th>\n",
       "    </tr>\n",
       "  </thead>\n",
       "  <tbody>\n",
       "    <tr>\n",
       "      <th>0</th>\n",
       "      <td>4275</td>\n",
       "      <td>29.11.2020</td>\n",
       "      <td>0</td>\n",
       "      <td>2500</td>\n",
       "      <td>402,11</td>\n",
       "      <td>0</td>\n",
       "      <td>0</td>\n",
       "      <td>0</td>\n",
       "      <td>0</td>\n",
       "      <td>1</td>\n",
       "      <td>...</td>\n",
       "      <td>0.0</td>\n",
       "      <td>0.0</td>\n",
       "      <td>0.0</td>\n",
       "      <td>0</td>\n",
       "      <td>0.0</td>\n",
       "      <td>0.0</td>\n",
       "      <td>0</td>\n",
       "      <td>0.0</td>\n",
       "      <td>0</td>\n",
       "      <td>1</td>\n",
       "    </tr>\n",
       "    <tr>\n",
       "      <th>1</th>\n",
       "      <td>9635</td>\n",
       "      <td>17.02.2021</td>\n",
       "      <td>0</td>\n",
       "      <td>600</td>\n",
       "      <td>0</td>\n",
       "      <td>0</td>\n",
       "      <td>0</td>\n",
       "      <td>0</td>\n",
       "      <td>30</td>\n",
       "      <td>1</td>\n",
       "      <td>...</td>\n",
       "      <td>0.0</td>\n",
       "      <td>0.0</td>\n",
       "      <td>0.0</td>\n",
       "      <td>0</td>\n",
       "      <td>1.0</td>\n",
       "      <td>2.0</td>\n",
       "      <td>1500</td>\n",
       "      <td>1.0</td>\n",
       "      <td>3000</td>\n",
       "      <td>0</td>\n",
       "    </tr>\n",
       "    <tr>\n",
       "      <th>2</th>\n",
       "      <td>5383</td>\n",
       "      <td>14.12.2020</td>\n",
       "      <td>0</td>\n",
       "      <td>500</td>\n",
       "      <td>0</td>\n",
       "      <td>0</td>\n",
       "      <td>0</td>\n",
       "      <td>0</td>\n",
       "      <td>0</td>\n",
       "      <td>1</td>\n",
       "      <td>...</td>\n",
       "      <td>0.0</td>\n",
       "      <td>0.0</td>\n",
       "      <td>0.0</td>\n",
       "      <td>0</td>\n",
       "      <td>2.0</td>\n",
       "      <td>3.0</td>\n",
       "      <td>466,67</td>\n",
       "      <td>0.0</td>\n",
       "      <td>1400</td>\n",
       "      <td>0</td>\n",
       "    </tr>\n",
       "    <tr>\n",
       "      <th>3</th>\n",
       "      <td>442</td>\n",
       "      <td>05.10.2020</td>\n",
       "      <td>0</td>\n",
       "      <td>500</td>\n",
       "      <td>0</td>\n",
       "      <td>0,01</td>\n",
       "      <td>0</td>\n",
       "      <td>0</td>\n",
       "      <td>0</td>\n",
       "      <td>2</td>\n",
       "      <td>...</td>\n",
       "      <td>0.0</td>\n",
       "      <td>0.0</td>\n",
       "      <td>0.0</td>\n",
       "      <td>0</td>\n",
       "      <td>0.0</td>\n",
       "      <td>0.0</td>\n",
       "      <td>0</td>\n",
       "      <td>0.0</td>\n",
       "      <td>0</td>\n",
       "      <td>0</td>\n",
       "    </tr>\n",
       "    <tr>\n",
       "      <th>4</th>\n",
       "      <td>5070</td>\n",
       "      <td>10.12.2020</td>\n",
       "      <td>0</td>\n",
       "      <td>300</td>\n",
       "      <td>0</td>\n",
       "      <td>0</td>\n",
       "      <td>0</td>\n",
       "      <td>0</td>\n",
       "      <td>0</td>\n",
       "      <td>1</td>\n",
       "      <td>...</td>\n",
       "      <td>0.0</td>\n",
       "      <td>0.0</td>\n",
       "      <td>0.0</td>\n",
       "      <td>0</td>\n",
       "      <td>2.0</td>\n",
       "      <td>18.0</td>\n",
       "      <td>459,15</td>\n",
       "      <td>0.0</td>\n",
       "      <td>8264,71</td>\n",
       "      <td>0</td>\n",
       "    </tr>\n",
       "  </tbody>\n",
       "</table>\n",
       "<p>5 rows × 235 columns</p>\n",
       "</div>"
      ],
      "text/plain": [
       "   application_id loan_date_created  activeloan_coalt  applicationamount  \\\n",
       "0            4275        29.11.2020                 0               2500   \n",
       "1            9635        17.02.2021                 0                600   \n",
       "2            5383        14.12.2020                 0                500   \n",
       "3             442        05.10.2020                 0                500   \n",
       "4            5070        10.12.2020                 0                300   \n",
       "\n",
       "  applicationprice avgbetweenapplications avgbetweenapprovedapplications  \\\n",
       "0           402,11                      0                              0   \n",
       "1                0                      0                              0   \n",
       "2                0                      0                              0   \n",
       "3                0                   0,01                              0   \n",
       "4                0                      0                              0   \n",
       "\n",
       "  avgextensions avgloanterm  countapplicationsafterlastloanclose  ...  \\\n",
       "0             0           0                                    1  ...   \n",
       "1             0          30                                    1  ...   \n",
       "2             0           0                                    1  ...   \n",
       "3             0           0                                    2  ...   \n",
       "4             0           0                                    1  ...   \n",
       "\n",
       "   informationcount  debtorscount  creditorscount  amount  providerscount  \\\n",
       "0               0.0           0.0             0.0       0             0.0   \n",
       "1               0.0           0.0             0.0       0             1.0   \n",
       "2               0.0           0.0             0.0       0             2.0   \n",
       "3               0.0           0.0             0.0       0             0.0   \n",
       "4               0.0           0.0             0.0       0             2.0   \n",
       "\n",
       "  paidobligationscount averagepaiddebt  averagepaymenttimeindays  sumpaiddebt  \\\n",
       "0                  0.0               0                       0.0            0   \n",
       "1                  2.0            1500                       1.0         3000   \n",
       "2                  3.0          466,67                       0.0         1400   \n",
       "3                  0.0               0                       0.0            0   \n",
       "4                 18.0          459,15                       0.0      8264,71   \n",
       "\n",
       "   TARGET  \n",
       "0       1  \n",
       "1       0  \n",
       "2       0  \n",
       "3       0  \n",
       "4       0  \n",
       "\n",
       "[5 rows x 235 columns]"
      ]
     },
     "execution_count": 3,
     "metadata": {},
     "output_type": "execute_result"
    }
   ],
   "source": [
    "train.head()"
   ]
  },
  {
   "cell_type": "code",
   "execution_count": 4,
   "id": "7ab345b5",
   "metadata": {},
   "outputs": [
    {
     "data": {
      "text/plain": [
       "Series([], Name: TARGET, dtype: int64)"
      ]
     },
     "execution_count": 4,
     "metadata": {},
     "output_type": "execute_result"
    }
   ],
   "source": [
    "# Do we have mising values in target variable?\n",
    "one=train['TARGET']\n",
    "one[one.isnull()==True].head()"
   ]
  },
  {
   "cell_type": "code",
   "execution_count": 5,
   "id": "f04c86d0",
   "metadata": {},
   "outputs": [
    {
     "data": {
      "text/plain": [
       "application_id               0\n",
       "loan_date_created            0\n",
       "activeloan_coalt             0\n",
       "applicationamount            0\n",
       "applicationprice             0\n",
       "                            ..\n",
       "paidobligationscount        43\n",
       "averagepaiddebt             43\n",
       "averagepaymenttimeindays    43\n",
       "sumpaiddebt                 43\n",
       "TARGET                       0\n",
       "Length: 235, dtype: int64"
      ]
     },
     "execution_count": 5,
     "metadata": {},
     "output_type": "execute_result"
    }
   ],
   "source": [
    "# Checking for missing values\n",
    "train.isnull().sum()"
   ]
  },
  {
   "cell_type": "code",
   "execution_count": 6,
   "id": "c849be1a",
   "metadata": {},
   "outputs": [
    {
     "data": {
      "text/plain": [
       "116021"
      ]
     },
     "execution_count": 6,
     "metadata": {},
     "output_type": "execute_result"
    }
   ],
   "source": [
    "# Missing values in the entire dataset\n",
    "train.isnull().sum().sum()"
   ]
  },
  {
   "cell_type": "code",
   "execution_count": 7,
   "id": "2a37cfb4",
   "metadata": {},
   "outputs": [
    {
     "data": {
      "text/plain": [
       "chap_countrejectedapplications                  47.10\n",
       "daysafterregistration                           63.18\n",
       "num_positive_accounts                           20.14\n",
       "sum_positive_accounts                           20.14\n",
       "days_after_first_positive_accounts              20.14\n",
       "days_after_last_positive_accounts               20.14\n",
       "amounttotal                                     19.03\n",
       "amounttotalopen                                 19.03\n",
       "citysize                                        14.11\n",
       "companiesinhouse                                14.11\n",
       "count                                           19.03\n",
       "creditstatusmax                                 19.03\n",
       "decision                                         0.18\n",
       "gender                                           0.18\n",
       "householdsize                                   14.11\n",
       "housesize                                       14.11\n",
       "legalform                                       13.08\n",
       "swo_ind_active_loans_amount                     19.26\n",
       "swo_ind_active_loans_number                     19.26\n",
       "swo_ind_active_loans_open_amount                19.74\n",
       "swo_ind_closed_paid_loans_lenders_number         6.80\n",
       "swo_ind_loans_number                             5.55\n",
       "swo_ind_overdue_loans_number                    94.14\n",
       "swo_ind_same_ip_different_pesel_count           90.24\n",
       "swo_ind_same_ip_different_pesel_count_unique    90.24\n",
       "value                                            0.33\n",
       "chap_coef                                       19.26\n",
       "days_after_knownsince_pbd                       67.15\n",
       "policyrule_partialdecision                      95.46\n",
       "num_prepaid_loans                               18.99\n",
       "max_prepaid_days                                29.16\n",
       "min_prepaid_days                                29.16\n",
       "avg_prepaid_days                                29.16\n",
       "num_paid_loans_on_time                          18.99\n",
       "num_paid_loans_with_dpd                         18.99\n",
       "num_paid_loans_with_dpd_to_all                  18.99\n",
       "max_dpd                                         64.10\n",
       "avg_dpd                                         64.10\n",
       "oinformationcount                                0.43\n",
       "informationcount                                 0.43\n",
       "debtorscount                                     0.43\n",
       "creditorscount                                   0.43\n",
       "amount                                           0.43\n",
       "providerscount                                   0.43\n",
       "paidobligationscount                             0.43\n",
       "averagepaiddebt                                  0.43\n",
       "averagepaymenttimeindays                         0.43\n",
       "sumpaiddebt                                      0.43\n",
       "dtype: float64"
      ]
     },
     "execution_count": 7,
     "metadata": {},
     "output_type": "execute_result"
    }
   ],
   "source": [
    "# Checking every variable for missing data\n",
    "missing_columns = train.columns[train.isnull().any()].tolist()\n",
    "# Checking percentages of missing data - for variables which lack some data\n",
    "# I decided to define findMiss function to support code reuse \n",
    "def findMiss(df):\n",
    "    return round(df[missing_columns].isnull().sum()/df[missing_columns].shape[0]*100,2)\n",
    "findMiss(train)"
   ]
  },
  {
   "cell_type": "markdown",
   "id": "7038b600",
   "metadata": {},
   "source": [
    "As we can see, we have a multitude of variables in which the percentage of Missing Data is very large. Before moving on to further stages of model building, I will remove from our training dataset those variables whose percentage of Missing Data is greater than 50%. I allow myself to make such a move only because we still have a whole host of variables at our disposal. Naturally, by deciding on such a move, I am assuming that the data is of the MAR or MCAR type."
   ]
  },
  {
   "cell_type": "code",
   "execution_count": 8,
   "id": "b35216ad",
   "metadata": {},
   "outputs": [],
   "source": [
    "# Storing dropped variables in a list called \"dropped_variables\"\n",
    "dropped_variables = []\n",
    "miss_series = findMiss(train)\n",
    "\n",
    "for index, value in miss_series.items():\n",
    "    if value > 50:\n",
    "        dropped_variables.append(index)\n",
    "\n",
    "#print(dropped_variables)"
   ]
  },
  {
   "cell_type": "code",
   "execution_count": 10,
   "id": "2936ca9b",
   "metadata": {},
   "outputs": [],
   "source": [
    "# Checking whether all variables to be dropped are in place\n",
    "for column in dropped_variables:\n",
    "    if column not in train.columns:\n",
    "        print(f\"Column not found in DataFrame: {column}\")\n",
    "\n",
    "# Dropping Variables\n",
    "train = train.drop(columns = dropped_variables)"
   ]
  },
  {
   "cell_type": "code",
   "execution_count": 11,
   "id": "eff99275",
   "metadata": {},
   "outputs": [
    {
     "data": {
      "text/plain": [
       "53160"
      ]
     },
     "execution_count": 11,
     "metadata": {},
     "output_type": "execute_result"
    }
   ],
   "source": [
    "# Missing values in the entire dataset\n",
    "train.isnull().sum().sum()"
   ]
  },
  {
   "cell_type": "markdown",
   "id": "21458d77",
   "metadata": {},
   "source": [
    "It turns out that by discarding variables in which the percentage of missing values exceeded 50%, we managed to eliminate over sixty thousand missing values. Even after discarding the previously mentioned variables, we are still left with 40 variables that we need to address. At this point, I decide to divide our variables into textual and numerical ones."
   ]
  },
  {
   "cell_type": "code",
   "execution_count": 12,
   "id": "95c3d19a",
   "metadata": {},
   "outputs": [],
   "source": [
    "text_columns = list()\n",
    "numerical_columns = list()\n",
    "\n",
    "for column in train.columns:\n",
    "    if train[column].dtype == 'object':\n",
    "        text_columns.append(column)\n",
    "    else:\n",
    "        numerical_columns.append(column)"
   ]
  },
  {
   "cell_type": "code",
   "execution_count": 13,
   "id": "7d8e2e6c",
   "metadata": {},
   "outputs": [],
   "source": [
    "text_miss_var = list()\n",
    "num_miss_var = list()\n",
    "\n",
    "# Appending missing numerical variable names\n",
    "for column in numerical_columns:\n",
    "    if column in missing_columns:\n",
    "        num_miss_var.append(column)\n",
    "        \n",
    "# Appending missing textual variable names\n",
    "for column in text_columns:\n",
    "    if column in missing_columns:\n",
    "        text_miss_var.append(column)"
   ]
  },
  {
   "cell_type": "markdown",
   "id": "e0d81320",
   "metadata": {},
   "source": [
    "As for the numerical variables, the first step we should check for outliers. If they do not occur, then we can replace missing values with the mean."
   ]
  },
  {
   "cell_type": "code",
   "execution_count": 14,
   "id": "58c09efe",
   "metadata": {},
   "outputs": [
    {
     "data": {
      "image/png": "[encoded data removed]",
      "text/plain": [
       "<Figure size 720x288 with 1 Axes>"
      ]
     },
     "metadata": {
      "needs_background": "light"
     },
     "output_type": "display_data"
    },
    {
     "data": {
      "image/png": "[encoded data removed]",
      "text/plain": [
       "<Figure size 720x288 with 1 Axes>"
      ]
     },
     "metadata": {
      "needs_background": "light"
     },
     "output_type": "display_data"
    },
    {
     "data": {
      "image/png": "[encoded data removed]",
      "text/plain": [
       "<Figure size 720x288 with 1 Axes>"
      ]
     },
     "metadata": {
      "needs_background": "light"
     },
     "output_type": "display_data"
    },
    {
     "data": {
      "image/png": "[encoded data removed]",
      "text/plain": [
       "<Figure size 720x288 with 1 Axes>"
      ]
     },
     "metadata": {
      "needs_background": "light"
     },
     "output_type": "display_data"
    },
    {
     "data": {
      "image/png": "[encoded data removed]",
      "text/plain": [
       "<Figure size 720x288 with 1 Axes>"
      ]
     },
     "metadata": {
      "needs_background": "light"
     },
     "output_type": "display_data"
    },
    {
     "data": {
      "image/png": "[encoded data removed]",
      "text/plain": [
       "<Figure size 720x288 with 1 Axes>"
      ]
     },
     "metadata": {
      "needs_background": "light"
     },
     "output_type": "display_data"
    },
    {
     "data": {
      "image/png": "[encoded data removed]",
      "text/plain": [
       "<Figure size 720x288 with 1 Axes>"
      ]
     },
     "metadata": {
      "needs_background": "light"
     },
     "output_type": "display_data"
    },
    {
     "data": {
      "image/png": "[encoded data removed]",
      "text/plain": [
       "<Figure size 720x288 with 1 Axes>"
      ]
     },
     "metadata": {
      "needs_background": "light"
     },
     "output_type": "display_data"
    },
    {
     "data": {
      "image/png": "[encoded data removed]",
      "text/plain": [
       "<Figure size 720x288 with 1 Axes>"
      ]
     },
     "metadata": {
      "needs_background": "light"
     },
     "output_type": "display_data"
    },
    {
     "data": {
      "image/png": "[encoded data removed]",
      "text/plain": [
       "<Figure size 720x288 with 1 Axes>"
      ]
     },
     "metadata": {
      "needs_background": "light"
     },
     "output_type": "display_data"
    },
    {
     "data": {
      "image/png": "[encoded data removed]",
      "text/plain": [
       "<Figure size 720x288 with 1 Axes>"
      ]
     },
     "metadata": {
      "needs_background": "light"
     },
     "output_type": "display_data"
    },
    {
     "data": {
      "image/png": "[encoded data removed]",
      "text/plain": [
       "<Figure size 720x288 with 1 Axes>"
      ]
     },
     "metadata": {
      "needs_background": "light"
     },
     "output_type": "display_data"
    },
    {
     "data": {
      "image/png": "[encoded data removed]",
      "text/plain": [
       "<Figure size 720x288 with 1 Axes>"
      ]
     },
     "metadata": {
      "needs_background": "light"
     },
     "output_type": "display_data"
    },
    {
     "data": {
      "image/png": "[encoded data removed]",
      "text/plain": [
       "<Figure size 720x288 with 1 Axes>"
      ]
     },
     "metadata": {
      "needs_background": "light"
     },
     "output_type": "display_data"
    },
    {
     "data": {
      "image/png": "[encoded data removed]",
      "text/plain": [
       "<Figure size 720x288 with 1 Axes>"
      ]
     },
     "metadata": {
      "needs_background": "light"
     },
     "output_type": "display_data"
    },
    {
     "data": {
      "image/png": "[encoded data removed]",
      "text/plain": [
       "<Figure size 720x288 with 1 Axes>"
      ]
     },
     "metadata": {
      "needs_background": "light"
     },
     "output_type": "display_data"
    },
    {
     "data": {
      "image/png": "[encoded data removed]",
      "text/plain": [
       "<Figure size 720x288 with 1 Axes>"
      ]
     },
     "metadata": {
      "needs_background": "light"
     },
     "output_type": "display_data"
    },
    {
     "data": {
      "image/png": "[encoded data removed]",
      "text/plain": [
       "<Figure size 720x288 with 1 Axes>"
      ]
     },
     "metadata": {
      "needs_background": "light"
     },
     "output_type": "display_data"
    },
    {
     "data": {
      "image/png": "[encoded data removed]",
      "text/plain": [
       "<Figure size 720x288 with 1 Axes>"
      ]
     },
     "metadata": {
      "needs_background": "light"
     },
     "output_type": "display_data"
    },
    {
     "data": {
      "image/png": "[encoded data removed]",
      "text/plain": [
       "<Figure size 720x288 with 1 Axes>"
      ]
     },
     "metadata": {
      "needs_background": "light"
     },
     "output_type": "display_data"
    },
    {
     "data": {
      "image/png": "[encoded data removed]",
      "text/plain": [
       "<Figure size 720x288 with 1 Axes>"
      ]
     },
     "metadata": {
      "needs_background": "light"
     },
     "output_type": "display_data"
    },
    {
     "data": {
      "image/png": "[encoded data removed]",
      "text/plain": [
       "<Figure size 720x288 with 1 Axes>"
      ]
     },
     "metadata": {
      "needs_background": "light"
     },
     "output_type": "display_data"
    }
   ],
   "source": [
    "# Defining new \"numerical_data\" variable only to be used with our boxplots  \n",
    "numerical_data = train[num_miss_var]\n",
    "\n",
    "for missing_variable in numerical_data:\n",
    "    plt.figure(figsize=(10, 4))\n",
    "    sns.boxplot(x=numerical_data[missing_variable])\n",
    "    plt.title(missing_variable)\n",
    "    plt.show()"
   ]
  },
  {
   "cell_type": "markdown",
   "id": "a265dad7",
   "metadata": {},
   "source": [
    "As we can see in the presented variables, there are numerous outliers, which prevents us from using the mean. In such a case, I decide to replace the missing values in each of the variables with their mode. The mode also replaces the textual values."
   ]
  },
  {
   "cell_type": "code",
   "execution_count": 15,
   "id": "995c09b1",
   "metadata": {},
   "outputs": [],
   "source": [
    "# Replace the missing values for numerical columns with mode\n",
    "for column in num_miss_var:\n",
    "    train[column] = train[column].fillna(train[column].mode()[0])\n",
    "    \n",
    "# Replace the missing values for textual columns with mode\n",
    "for column in text_miss_var:\n",
    "    train[column] = train[column].fillna(train[column].mode()[0])"
   ]
  },
  {
   "cell_type": "markdown",
   "id": "517d42d0",
   "metadata": {},
   "source": [
    "Since our data has been cleansed of missing values, I separate the TARGET variable from the rest of our training dataset."
   ]
  },
  {
   "cell_type": "code",
   "execution_count": 18,
   "id": "37fde650",
   "metadata": {},
   "outputs": [],
   "source": [
    "# Defining \"model_ds\" as our modelling dataset\n",
    "model_ds = train.drop(['TARGET'], axis=1)\n",
    "# Defining \"model_tar\" as a dataset which stores our TARGET VARIABLE\n",
    "model_tar = train['TARGET']"
   ]
  },
  {
   "cell_type": "markdown",
   "id": "f38dc6cf",
   "metadata": {},
   "source": [
    "We are at a point where we have managed to deal with missing data. However, we are not yet ready to move on to modeling. If we look at all our variables, we will see that a large part of them are so-called categorical variables. Such variables are characterized by the fact that we often cannot represent them with binary values."
   ]
  },
  {
   "cell_type": "code",
   "execution_count": 20,
   "id": "7c4327f6",
   "metadata": {},
   "outputs": [
    {
     "data": {
      "text/plain": [
       "37"
      ]
     },
     "execution_count": 20,
     "metadata": {},
     "output_type": "execute_result"
    }
   ],
   "source": [
    "# Establishing which variables are \"object\" data type\n",
    "object_columns = model_ds.select_dtypes(include=['object']).columns.tolist()\n",
    "len(object_columns)"
   ]
  },
  {
   "cell_type": "code",
   "execution_count": 21,
   "id": "0c83bbfb",
   "metadata": {},
   "outputs": [
    {
     "name": "stdout",
     "output_type": "stream",
     "text": [
      "<class 'pandas.core.frame.DataFrame'>\n",
      "RangeIndex: 10000 entries, 0 to 9999\n",
      "Data columns (total 37 columns):\n",
      " #   Column                            Non-Null Count  Dtype \n",
      "---  ------                            --------------  ----- \n",
      " 0   loan_date_created                 10000 non-null  object\n",
      " 1   applicationprice                  10000 non-null  object\n",
      " 2   avgbetweenapplications            10000 non-null  object\n",
      " 3   avgbetweenapprovedapplications    10000 non-null  object\n",
      " 4   avgextensions                     10000 non-null  object\n",
      " 5   avgloanterm                       10000 non-null  object\n",
      " 6   income_charge                     10000 non-null  object\n",
      " 7   onavgdpd                          10000 non-null  object\n",
      " 8   sum_positive_accounts             10000 non-null  object\n",
      " 9   amounttotal                       10000 non-null  object\n",
      " 10  amounttotalopen                   10000 non-null  object\n",
      " 11  citysize                          10000 non-null  object\n",
      " 12  companiesinhouse                  10000 non-null  object\n",
      " 13  decision                          10000 non-null  object\n",
      " 14  gender                            10000 non-null  object\n",
      " 15  householdsize                     10000 non-null  object\n",
      " 16  housesize                         10000 non-null  object\n",
      " 17  legalform                         10000 non-null  object\n",
      " 18  swo_ind_active_loans_amount       10000 non-null  object\n",
      " 19  swo_ind_active_loans_open_amount  10000 non-null  object\n",
      " 20  value                             10000 non-null  object\n",
      " 21  chap_coef                         10000 non-null  object\n",
      " 22  swo_ind_loans_amount_p0_1         10000 non-null  object\n",
      " 23  swo_ind_loans_amount_p0_3         10000 non-null  object\n",
      " 24  swo_ind_loans_amount_p0_7         10000 non-null  object\n",
      " 25  swo_ind_loans_amount_p0_30        10000 non-null  object\n",
      " 26  swo_ind_loans_amount_p0_90        10000 non-null  object\n",
      " 27  swo_ind_loans_amount_p0_210       10000 non-null  object\n",
      " 28  swo_ind_loans_amount_p0_360       10000 non-null  object\n",
      " 29  swo_ind_loans_amount_p0_plus      10000 non-null  object\n",
      " 30  housetype                         10000 non-null  object\n",
      " 31  identificationtype                10000 non-null  object\n",
      " 32  score_partialdecision             10000 non-null  object\n",
      " 33  avg_prepaid_days                  10000 non-null  object\n",
      " 34  amount                            10000 non-null  object\n",
      " 35  averagepaiddebt                   10000 non-null  object\n",
      " 36  sumpaiddebt                       10000 non-null  object\n",
      "dtypes: object(37)\n",
      "memory usage: 2.8+ MB\n"
     ]
    }
   ],
   "source": [
    "model_ds[object_columns].info()"
   ]
  },
  {
   "cell_type": "markdown",
   "id": "d0a6a6e9",
   "metadata": {},
   "source": [
    "Firstly, we need to deal with the 'loan_date_created' variable. I decide to transform it in the following way."
   ]
  },
  {
   "cell_type": "code",
   "execution_count": 22,
   "id": "dc306a27",
   "metadata": {},
   "outputs": [],
   "source": [
    "# Converting to datetime datatype\n",
    "model_ds['loan_date_created'] = pd.to_datetime(model_ds['loan_date_created'])\n",
    "\n",
    "# Converting to int datatype with use of unix timestamp\n",
    "model_ds['loan_date_created'] = model_ds['loan_date_created'].apply(lambda x: int(x.timestamp()))"
   ]
  },
  {
   "cell_type": "code",
   "execution_count": 23,
   "id": "52b9b560",
   "metadata": {},
   "outputs": [
    {
     "name": "stderr",
     "output_type": "stream",
     "text": [
      "/var/folders/gr/v5rg5xg16930jrqr4ctbsrq00000gn/T/ipykernel_82134/1961553628.py:3: DeprecationWarning: `np.object` is a deprecated alias for the builtin `object`. To silence this warning, use `object` by itself. Doing this will not modify any behavior and is safe. \n",
      "Deprecated in NumPy 1.20; for more details and guidance: https://numpy.org/devdocs/release/1.20.0-notes.html#deprecations\n",
      "  if model_ds[column].dtype == np.object or model_ds[column].dtype == 'O':\n"
     ]
    },
    {
     "name": "stdout",
     "output_type": "stream",
     "text": [
      "Column citysize can't be converted to 'int64'\n",
      "Column companiesinhouse can't be converted to 'int64'\n",
      "Column decision can't be converted to 'int64'\n",
      "Column gender can't be converted to 'int64'\n",
      "Column householdsize can't be converted to 'int64'\n",
      "Column housesize can't be converted to 'int64'\n",
      "Column legalform can't be converted to 'int64'\n",
      "Column value can't be converted to 'int64'\n",
      "Column housetype can't be converted to 'int64'\n",
      "Column identificationtype can't be converted to 'int64'\n",
      "Column score_partialdecision can't be converted to 'int64'\n"
     ]
    }
   ],
   "source": [
    "# Here, we are converting all \"object\" type variables into int64\n",
    "for column in model_ds[object_columns]:\n",
    "    if model_ds[column].dtype == np.object or model_ds[column].dtype == 'O':\n",
    "        try:\n",
    "            model_ds[column] = model_ds[column].str.replace(',', '').astype('int64')\n",
    "        except ValueError:\n",
    "            print(f\"Column {column} can't be converted to 'int64'\")"
   ]
  },
  {
   "cell_type": "code",
   "execution_count": 24,
   "id": "f9c86285",
   "metadata": {},
   "outputs": [
    {
     "name": "stdout",
     "output_type": "stream",
     "text": [
      "<class 'pandas.core.frame.DataFrame'>\n",
      "RangeIndex: 10000 entries, 0 to 9999\n",
      "Data columns (total 37 columns):\n",
      " #   Column                            Non-Null Count  Dtype \n",
      "---  ------                            --------------  ----- \n",
      " 0   loan_date_created                 10000 non-null  int64 \n",
      " 1   applicationprice                  10000 non-null  int64 \n",
      " 2   avgbetweenapplications            10000 non-null  int64 \n",
      " 3   avgbetweenapprovedapplications    10000 non-null  int64 \n",
      " 4   avgextensions                     10000 non-null  int64 \n",
      " 5   avgloanterm                       10000 non-null  int64 \n",
      " 6   income_charge                     10000 non-null  int64 \n",
      " 7   onavgdpd                          10000 non-null  int64 \n",
      " 8   sum_positive_accounts             10000 non-null  int64 \n",
      " 9   amounttotal                       10000 non-null  int64 \n",
      " 10  amounttotalopen                   10000 non-null  int64 \n",
      " 11  citysize                          10000 non-null  object\n",
      " 12  companiesinhouse                  10000 non-null  object\n",
      " 13  decision                          10000 non-null  object\n",
      " 14  gender                            10000 non-null  object\n",
      " 15  householdsize                     10000 non-null  object\n",
      " 16  housesize                         10000 non-null  object\n",
      " 17  legalform                         10000 non-null  object\n",
      " 18  swo_ind_active_loans_amount       10000 non-null  int64 \n",
      " 19  swo_ind_active_loans_open_amount  10000 non-null  int64 \n",
      " 20  value                             10000 non-null  object\n",
      " 21  chap_coef                         10000 non-null  int64 \n",
      " 22  swo_ind_loans_amount_p0_1         10000 non-null  int64 \n",
      " 23  swo_ind_loans_amount_p0_3         10000 non-null  int64 \n",
      " 24  swo_ind_loans_amount_p0_7         10000 non-null  int64 \n",
      " 25  swo_ind_loans_amount_p0_30        10000 non-null  int64 \n",
      " 26  swo_ind_loans_amount_p0_90        10000 non-null  int64 \n",
      " 27  swo_ind_loans_amount_p0_210       10000 non-null  int64 \n",
      " 28  swo_ind_loans_amount_p0_360       10000 non-null  int64 \n",
      " 29  swo_ind_loans_amount_p0_plus      10000 non-null  int64 \n",
      " 30  housetype                         10000 non-null  object\n",
      " 31  identificationtype                10000 non-null  object\n",
      " 32  score_partialdecision             10000 non-null  object\n",
      " 33  avg_prepaid_days                  10000 non-null  int64 \n",
      " 34  amount                            10000 non-null  int64 \n",
      " 35  averagepaiddebt                   10000 non-null  int64 \n",
      " 36  sumpaiddebt                       10000 non-null  int64 \n",
      "dtypes: int64(26), object(11)\n",
      "memory usage: 2.8+ MB\n"
     ]
    }
   ],
   "source": [
    "model_ds[object_columns].info()"
   ]
  },
  {
   "cell_type": "markdown",
   "id": "29c0b510",
   "metadata": {},
   "source": [
    "All the \"object\" type variables that we can observe above are so-called categorical variables. At this moment, I decide to perform Label Encoding on them using the LabelEncoder object from sklearn."
   ]
  },
  {
   "cell_type": "code",
   "execution_count": 25,
   "id": "0659241e",
   "metadata": {},
   "outputs": [],
   "source": [
    "#LabelEncoder importing and creation of le object \n",
    "from sklearn.preprocessing import LabelEncoder\n",
    "le = LabelEncoder()"
   ]
  },
  {
   "cell_type": "code",
   "execution_count": 26,
   "id": "fd44f529",
   "metadata": {},
   "outputs": [],
   "source": [
    "# Creation of a new variable, which is going to store all object dtype variables left\n",
    "categorical_var = ['citysize', 'companiesinhouse', 'decision', 'gender', 'householdsize', 'housesize', 'legalform', 'value', 'housetype', 'identificationtype', 'score_partialdecision']"
   ]
  },
  {
   "cell_type": "code",
   "execution_count": 28,
   "id": "948093e7",
   "metadata": {},
   "outputs": [
    {
     "data": {
      "text/html": [
       "<div>\n",
       "<style scoped>\n",
       "    .dataframe tbody tr th:only-of-type {\n",
       "        vertical-align: middle;\n",
       "    }\n",
       "\n",
       "    .dataframe tbody tr th {\n",
       "        vertical-align: top;\n",
       "    }\n",
       "\n",
       "    .dataframe thead th {\n",
       "        text-align: right;\n",
       "    }\n",
       "</style>\n",
       "<table border=\"1\" class=\"dataframe\">\n",
       "  <thead>\n",
       "    <tr style=\"text-align: right;\">\n",
       "      <th></th>\n",
       "      <th>citysize</th>\n",
       "      <th>companiesinhouse</th>\n",
       "      <th>decision</th>\n",
       "      <th>gender</th>\n",
       "      <th>householdsize</th>\n",
       "      <th>housesize</th>\n",
       "      <th>legalform</th>\n",
       "      <th>value</th>\n",
       "      <th>housetype</th>\n",
       "      <th>identificationtype</th>\n",
       "      <th>score_partialdecision</th>\n",
       "    </tr>\n",
       "  </thead>\n",
       "  <tbody>\n",
       "    <tr>\n",
       "      <th>0</th>\n",
       "      <td>XXL</td>\n",
       "      <td>M</td>\n",
       "      <td>GREEN</td>\n",
       "      <td>MALE</td>\n",
       "      <td>UNKNOWN</td>\n",
       "      <td>L</td>\n",
       "      <td>PERSON</td>\n",
       "      <td>ADULT</td>\n",
       "      <td>SHARED_USAGE</td>\n",
       "      <td>IDENTITY_IN_UNIVERSE</td>\n",
       "      <td>GREEN</td>\n",
       "    </tr>\n",
       "    <tr>\n",
       "      <th>1</th>\n",
       "      <td>S</td>\n",
       "      <td>UNKNOWN</td>\n",
       "      <td>GREEN</td>\n",
       "      <td>MALE</td>\n",
       "      <td>M</td>\n",
       "      <td>S</td>\n",
       "      <td>PERSON</td>\n",
       "      <td>ADULT</td>\n",
       "      <td>UNKNOWN</td>\n",
       "      <td>IDENTITY_IN_UNIVERSE</td>\n",
       "      <td>RED</td>\n",
       "    </tr>\n",
       "    <tr>\n",
       "      <th>2</th>\n",
       "      <td>L</td>\n",
       "      <td>L</td>\n",
       "      <td>GREEN</td>\n",
       "      <td>MALE</td>\n",
       "      <td>S</td>\n",
       "      <td>L</td>\n",
       "      <td>PERSON</td>\n",
       "      <td>UNKNOWN</td>\n",
       "      <td>SHARED_USAGE</td>\n",
       "      <td>IDENTITY_IN_HOUSE</td>\n",
       "      <td>GREEN</td>\n",
       "    </tr>\n",
       "    <tr>\n",
       "      <th>3</th>\n",
       "      <td>XXL</td>\n",
       "      <td>L</td>\n",
       "      <td>GREEN</td>\n",
       "      <td>FEMALE</td>\n",
       "      <td>UNKNOWN</td>\n",
       "      <td>XL</td>\n",
       "      <td>PERSON</td>\n",
       "      <td>ADULT</td>\n",
       "      <td>SHARED_USAGE</td>\n",
       "      <td>IDENTITY_IN_CITY</td>\n",
       "      <td>GREEN</td>\n",
       "    </tr>\n",
       "    <tr>\n",
       "      <th>4</th>\n",
       "      <td>S</td>\n",
       "      <td>UNKNOWN</td>\n",
       "      <td>GREEN</td>\n",
       "      <td>MALE</td>\n",
       "      <td>UNKNOWN</td>\n",
       "      <td>UNKNOWN</td>\n",
       "      <td>UNKNOWN</td>\n",
       "      <td>UNKNOWN</td>\n",
       "      <td>PRIVATE_ONLY</td>\n",
       "      <td>IDENTITY_IN_UNIVERSE</td>\n",
       "      <td>GREEN</td>\n",
       "    </tr>\n",
       "  </tbody>\n",
       "</table>\n",
       "</div>"
      ],
      "text/plain": [
       "  citysize companiesinhouse decision  gender householdsize housesize  \\\n",
       "0      XXL                M    GREEN    MALE       UNKNOWN         L   \n",
       "1        S          UNKNOWN    GREEN    MALE             M         S   \n",
       "2        L                L    GREEN    MALE             S         L   \n",
       "3      XXL                L    GREEN  FEMALE       UNKNOWN        XL   \n",
       "4        S          UNKNOWN    GREEN    MALE       UNKNOWN   UNKNOWN   \n",
       "\n",
       "  legalform    value     housetype    identificationtype score_partialdecision  \n",
       "0    PERSON    ADULT  SHARED_USAGE  IDENTITY_IN_UNIVERSE                 GREEN  \n",
       "1    PERSON    ADULT       UNKNOWN  IDENTITY_IN_UNIVERSE                   RED  \n",
       "2    PERSON  UNKNOWN  SHARED_USAGE     IDENTITY_IN_HOUSE                 GREEN  \n",
       "3    PERSON    ADULT  SHARED_USAGE      IDENTITY_IN_CITY                 GREEN  \n",
       "4   UNKNOWN  UNKNOWN  PRIVATE_ONLY  IDENTITY_IN_UNIVERSE                 GREEN  "
      ]
     },
     "execution_count": 28,
     "metadata": {},
     "output_type": "execute_result"
    }
   ],
   "source": [
    "model_ds[categorical_var].head()"
   ]
  },
  {
   "cell_type": "code",
   "execution_count": 31,
   "id": "772e532e",
   "metadata": {},
   "outputs": [],
   "source": [
    "# Label encoding\n",
    "for column in model_ds[categorical_var]:\n",
    "    le = LabelEncoder()\n",
    "    model_ds[column] = le.fit_transform(model_ds[column])"
   ]
  },
  {
   "cell_type": "code",
   "execution_count": 32,
   "id": "109b1e21",
   "metadata": {},
   "outputs": [
    {
     "data": {
      "text/html": [
       "<div>\n",
       "<style scoped>\n",
       "    .dataframe tbody tr th:only-of-type {\n",
       "        vertical-align: middle;\n",
       "    }\n",
       "\n",
       "    .dataframe tbody tr th {\n",
       "        vertical-align: top;\n",
       "    }\n",
       "\n",
       "    .dataframe thead th {\n",
       "        text-align: right;\n",
       "    }\n",
       "</style>\n",
       "<table border=\"1\" class=\"dataframe\">\n",
       "  <thead>\n",
       "    <tr style=\"text-align: right;\">\n",
       "      <th></th>\n",
       "      <th>citysize</th>\n",
       "      <th>companiesinhouse</th>\n",
       "      <th>decision</th>\n",
       "      <th>gender</th>\n",
       "      <th>householdsize</th>\n",
       "      <th>housesize</th>\n",
       "      <th>legalform</th>\n",
       "      <th>value</th>\n",
       "      <th>housetype</th>\n",
       "      <th>identificationtype</th>\n",
       "      <th>score_partialdecision</th>\n",
       "    </tr>\n",
       "  </thead>\n",
       "  <tbody>\n",
       "    <tr>\n",
       "      <th>0</th>\n",
       "      <td>4</td>\n",
       "      <td>1</td>\n",
       "      <td>0</td>\n",
       "      <td>1</td>\n",
       "      <td>3</td>\n",
       "      <td>0</td>\n",
       "      <td>0</td>\n",
       "      <td>0</td>\n",
       "      <td>3</td>\n",
       "      <td>3</td>\n",
       "      <td>0</td>\n",
       "    </tr>\n",
       "    <tr>\n",
       "      <th>1</th>\n",
       "      <td>2</td>\n",
       "      <td>3</td>\n",
       "      <td>0</td>\n",
       "      <td>1</td>\n",
       "      <td>1</td>\n",
       "      <td>2</td>\n",
       "      <td>0</td>\n",
       "      <td>0</td>\n",
       "      <td>4</td>\n",
       "      <td>3</td>\n",
       "      <td>1</td>\n",
       "    </tr>\n",
       "    <tr>\n",
       "      <th>2</th>\n",
       "      <td>0</td>\n",
       "      <td>0</td>\n",
       "      <td>0</td>\n",
       "      <td>1</td>\n",
       "      <td>2</td>\n",
       "      <td>0</td>\n",
       "      <td>0</td>\n",
       "      <td>1</td>\n",
       "      <td>3</td>\n",
       "      <td>1</td>\n",
       "      <td>0</td>\n",
       "    </tr>\n",
       "    <tr>\n",
       "      <th>3</th>\n",
       "      <td>4</td>\n",
       "      <td>0</td>\n",
       "      <td>0</td>\n",
       "      <td>0</td>\n",
       "      <td>3</td>\n",
       "      <td>4</td>\n",
       "      <td>0</td>\n",
       "      <td>0</td>\n",
       "      <td>3</td>\n",
       "      <td>0</td>\n",
       "      <td>0</td>\n",
       "    </tr>\n",
       "    <tr>\n",
       "      <th>4</th>\n",
       "      <td>2</td>\n",
       "      <td>3</td>\n",
       "      <td>0</td>\n",
       "      <td>1</td>\n",
       "      <td>3</td>\n",
       "      <td>3</td>\n",
       "      <td>1</td>\n",
       "      <td>1</td>\n",
       "      <td>1</td>\n",
       "      <td>3</td>\n",
       "      <td>0</td>\n",
       "    </tr>\n",
       "  </tbody>\n",
       "</table>\n",
       "</div>"
      ],
      "text/plain": [
       "   citysize  companiesinhouse  decision  gender  householdsize  housesize  \\\n",
       "0         4                 1         0       1              3          0   \n",
       "1         2                 3         0       1              1          2   \n",
       "2         0                 0         0       1              2          0   \n",
       "3         4                 0         0       0              3          4   \n",
       "4         2                 3         0       1              3          3   \n",
       "\n",
       "   legalform  value  housetype  identificationtype  score_partialdecision  \n",
       "0          0      0          3                   3                      0  \n",
       "1          0      0          4                   3                      1  \n",
       "2          0      1          3                   1                      0  \n",
       "3          0      0          3                   0                      0  \n",
       "4          1      1          1                   3                      0  "
      ]
     },
     "execution_count": 32,
     "metadata": {},
     "output_type": "execute_result"
    }
   ],
   "source": [
    "model_ds[categorical_var].head()"
   ]
  },
  {
   "cell_type": "code",
   "execution_count": 33,
   "id": "4ac2f986",
   "metadata": {},
   "outputs": [
    {
     "data": {
      "text/html": [
       "<div>\n",
       "<style scoped>\n",
       "    .dataframe tbody tr th:only-of-type {\n",
       "        vertical-align: middle;\n",
       "    }\n",
       "\n",
       "    .dataframe tbody tr th {\n",
       "        vertical-align: top;\n",
       "    }\n",
       "\n",
       "    .dataframe thead th {\n",
       "        text-align: right;\n",
       "    }\n",
       "</style>\n",
       "<table border=\"1\" class=\"dataframe\">\n",
       "  <thead>\n",
       "    <tr style=\"text-align: right;\">\n",
       "      <th></th>\n",
       "      <th>application_id</th>\n",
       "      <th>loan_date_created</th>\n",
       "      <th>activeloan_coalt</th>\n",
       "      <th>applicationamount</th>\n",
       "      <th>applicationprice</th>\n",
       "      <th>avgbetweenapplications</th>\n",
       "      <th>avgbetweenapprovedapplications</th>\n",
       "      <th>avgextensions</th>\n",
       "      <th>avgloanterm</th>\n",
       "      <th>countapplicationsafterlastloanclose</th>\n",
       "      <th>...</th>\n",
       "      <th>oinformationcount</th>\n",
       "      <th>informationcount</th>\n",
       "      <th>debtorscount</th>\n",
       "      <th>creditorscount</th>\n",
       "      <th>amount</th>\n",
       "      <th>providerscount</th>\n",
       "      <th>paidobligationscount</th>\n",
       "      <th>averagepaiddebt</th>\n",
       "      <th>averagepaymenttimeindays</th>\n",
       "      <th>sumpaiddebt</th>\n",
       "    </tr>\n",
       "  </thead>\n",
       "  <tbody>\n",
       "    <tr>\n",
       "      <th>0</th>\n",
       "      <td>4275</td>\n",
       "      <td>1606608000</td>\n",
       "      <td>0</td>\n",
       "      <td>2500</td>\n",
       "      <td>40211</td>\n",
       "      <td>0</td>\n",
       "      <td>0</td>\n",
       "      <td>0</td>\n",
       "      <td>0</td>\n",
       "      <td>1</td>\n",
       "      <td>...</td>\n",
       "      <td>0.0</td>\n",
       "      <td>0.0</td>\n",
       "      <td>0.0</td>\n",
       "      <td>0.0</td>\n",
       "      <td>0</td>\n",
       "      <td>0.0</td>\n",
       "      <td>0.0</td>\n",
       "      <td>0</td>\n",
       "      <td>0.0</td>\n",
       "      <td>0</td>\n",
       "    </tr>\n",
       "    <tr>\n",
       "      <th>1</th>\n",
       "      <td>9635</td>\n",
       "      <td>1613520000</td>\n",
       "      <td>0</td>\n",
       "      <td>600</td>\n",
       "      <td>0</td>\n",
       "      <td>0</td>\n",
       "      <td>0</td>\n",
       "      <td>0</td>\n",
       "      <td>30</td>\n",
       "      <td>1</td>\n",
       "      <td>...</td>\n",
       "      <td>0.0</td>\n",
       "      <td>0.0</td>\n",
       "      <td>0.0</td>\n",
       "      <td>0.0</td>\n",
       "      <td>0</td>\n",
       "      <td>1.0</td>\n",
       "      <td>2.0</td>\n",
       "      <td>1500</td>\n",
       "      <td>1.0</td>\n",
       "      <td>159</td>\n",
       "    </tr>\n",
       "    <tr>\n",
       "      <th>2</th>\n",
       "      <td>5383</td>\n",
       "      <td>1607904000</td>\n",
       "      <td>0</td>\n",
       "      <td>500</td>\n",
       "      <td>0</td>\n",
       "      <td>0</td>\n",
       "      <td>0</td>\n",
       "      <td>0</td>\n",
       "      <td>0</td>\n",
       "      <td>1</td>\n",
       "      <td>...</td>\n",
       "      <td>0.0</td>\n",
       "      <td>0.0</td>\n",
       "      <td>0.0</td>\n",
       "      <td>0.0</td>\n",
       "      <td>0</td>\n",
       "      <td>2.0</td>\n",
       "      <td>3.0</td>\n",
       "      <td>46667</td>\n",
       "      <td>0.0</td>\n",
       "      <td>68</td>\n",
       "    </tr>\n",
       "    <tr>\n",
       "      <th>3</th>\n",
       "      <td>442</td>\n",
       "      <td>1589068800</td>\n",
       "      <td>0</td>\n",
       "      <td>500</td>\n",
       "      <td>0</td>\n",
       "      <td>1</td>\n",
       "      <td>0</td>\n",
       "      <td>0</td>\n",
       "      <td>0</td>\n",
       "      <td>2</td>\n",
       "      <td>...</td>\n",
       "      <td>0.0</td>\n",
       "      <td>0.0</td>\n",
       "      <td>0.0</td>\n",
       "      <td>0.0</td>\n",
       "      <td>0</td>\n",
       "      <td>0.0</td>\n",
       "      <td>0.0</td>\n",
       "      <td>0</td>\n",
       "      <td>0.0</td>\n",
       "      <td>0</td>\n",
       "    </tr>\n",
       "    <tr>\n",
       "      <th>4</th>\n",
       "      <td>5070</td>\n",
       "      <td>1602460800</td>\n",
       "      <td>0</td>\n",
       "      <td>300</td>\n",
       "      <td>0</td>\n",
       "      <td>0</td>\n",
       "      <td>0</td>\n",
       "      <td>0</td>\n",
       "      <td>0</td>\n",
       "      <td>1</td>\n",
       "      <td>...</td>\n",
       "      <td>0.0</td>\n",
       "      <td>0.0</td>\n",
       "      <td>0.0</td>\n",
       "      <td>0.0</td>\n",
       "      <td>0</td>\n",
       "      <td>2.0</td>\n",
       "      <td>18.0</td>\n",
       "      <td>45915</td>\n",
       "      <td>0.0</td>\n",
       "      <td>3286</td>\n",
       "    </tr>\n",
       "  </tbody>\n",
       "</table>\n",
       "<p>5 rows × 226 columns</p>\n",
       "</div>"
      ],
      "text/plain": [
       "   application_id  loan_date_created  activeloan_coalt  applicationamount  \\\n",
       "0            4275         1606608000                 0               2500   \n",
       "1            9635         1613520000                 0                600   \n",
       "2            5383         1607904000                 0                500   \n",
       "3             442         1589068800                 0                500   \n",
       "4            5070         1602460800                 0                300   \n",
       "\n",
       "   applicationprice  avgbetweenapplications  avgbetweenapprovedapplications  \\\n",
       "0             40211                       0                               0   \n",
       "1                 0                       0                               0   \n",
       "2                 0                       0                               0   \n",
       "3                 0                       1                               0   \n",
       "4                 0                       0                               0   \n",
       "\n",
       "   avgextensions  avgloanterm  countapplicationsafterlastloanclose  ...  \\\n",
       "0              0            0                                    1  ...   \n",
       "1              0           30                                    1  ...   \n",
       "2              0            0                                    1  ...   \n",
       "3              0            0                                    2  ...   \n",
       "4              0            0                                    1  ...   \n",
       "\n",
       "   oinformationcount  informationcount  debtorscount  creditorscount  amount  \\\n",
       "0                0.0               0.0           0.0             0.0       0   \n",
       "1                0.0               0.0           0.0             0.0       0   \n",
       "2                0.0               0.0           0.0             0.0       0   \n",
       "3                0.0               0.0           0.0             0.0       0   \n",
       "4                0.0               0.0           0.0             0.0       0   \n",
       "\n",
       "   providerscount  paidobligationscount  averagepaiddebt  \\\n",
       "0             0.0                   0.0                0   \n",
       "1             1.0                   2.0             1500   \n",
       "2             2.0                   3.0            46667   \n",
       "3             0.0                   0.0                0   \n",
       "4             2.0                  18.0            45915   \n",
       "\n",
       "   averagepaymenttimeindays  sumpaiddebt  \n",
       "0                       0.0            0  \n",
       "1                       1.0          159  \n",
       "2                       0.0           68  \n",
       "3                       0.0            0  \n",
       "4                       0.0         3286  \n",
       "\n",
       "[5 rows x 226 columns]"
      ]
     },
     "execution_count": 33,
     "metadata": {},
     "output_type": "execute_result"
    }
   ],
   "source": [
    "# Our trainig dataset \n",
    "model_ds.head()"
   ]
  },
  {
   "cell_type": "markdown",
   "id": "51846b0b",
   "metadata": {},
   "source": [
    "Our training dataset has already undergone proper analysis and appropriate modifications. We will now move on to importing the open-source library XGBoost and installing the necessary packages."
   ]
  },
  {
   "cell_type": "code",
   "execution_count": 36,
   "id": "692620d7",
   "metadata": {},
   "outputs": [
    {
     "data": {
      "text/plain": [
       "TARGET\n",
       "0    77.27\n",
       "1    22.73\n",
       "dtype: float64"
      ]
     },
     "execution_count": 36,
     "metadata": {},
     "output_type": "execute_result"
    }
   ],
   "source": [
    "# Checking the proportions of individuals who fell into DEFAULT compared to those who have repaid the loan.\n",
    "train.groupby(['TARGET']).size()/train.shape[0] * 100"
   ]
  },
  {
   "cell_type": "markdown",
   "id": "8c8db467",
   "metadata": {},
   "source": [
    "# Importing the open-source library XGBoost and defining all the necessary variables needed to conduct the training"
   ]
  },
  {
   "cell_type": "code",
   "execution_count": 37,
   "id": "7dcf6cf7",
   "metadata": {},
   "outputs": [
    {
     "name": "stdout",
     "output_type": "stream",
     "text": [
      "Requirement already satisfied: Xgboost in /Users/michalpoleszczuk/opt/anaconda3/lib/python3.9/site-packages (2.0.3)\n",
      "Requirement already satisfied: numpy in /Users/michalpoleszczuk/opt/anaconda3/lib/python3.9/site-packages (from Xgboost) (1.20.3)\n",
      "Requirement already satisfied: scipy in /Users/michalpoleszczuk/opt/anaconda3/lib/python3.9/site-packages (from Xgboost) (1.7.1)\n",
      "\u001b[33mDEPRECATION: pyodbc 4.0.0-unsupported has a non-standard version number. pip 24.0 will enforce this behaviour change. A possible replacement is to upgrade to a newer version of pyodbc or contact the author to suggest that they release a version with a conforming version number. Discussion can be found at https://github.com/pypa/pip/issues/12063\u001b[0m\u001b[33m\n",
      "\u001b[0mNote: you may need to restart the kernel to use updated packages.\n"
     ]
    }
   ],
   "source": [
    "pip install Xgboost"
   ]
  },
  {
   "cell_type": "code",
   "execution_count": 38,
   "id": "fd53f67e",
   "metadata": {},
   "outputs": [],
   "source": [
    "import xgboost as xgb\n",
    "from xgboost import XGBClassifier\n",
    "from sklearn.metrics import accuracy_score\n",
    "from sklearn.metrics import confusion_matrix"
   ]
  },
  {
   "cell_type": "code",
   "execution_count": 39,
   "id": "63068e23",
   "metadata": {},
   "outputs": [],
   "source": [
    "model = XGBClassifier(tree_method = 'exact')"
   ]
  },
  {
   "cell_type": "code",
   "execution_count": 40,
   "id": "f429798a",
   "metadata": {},
   "outputs": [],
   "source": [
    "model.fit(model_ds, model_tar.values.ravel())\n",
    "tar_pred = model.predict(model_ds)"
   ]
  },
  {
   "cell_type": "code",
   "execution_count": 41,
   "id": "ca81345b",
   "metadata": {},
   "outputs": [
    {
     "data": {
      "text/plain": [
       "0.9905"
      ]
     },
     "execution_count": 41,
     "metadata": {},
     "output_type": "execute_result"
    }
   ],
   "source": [
    "# Checking accuracy of our model, naturally it is going to be high, because I haven't rejected to many variables\n",
    "accuracy_score(model_tar, tar_pred)"
   ]
  },
  {
   "cell_type": "code",
   "execution_count": 42,
   "id": "92ae23ce",
   "metadata": {},
   "outputs": [
    {
     "data": {
      "text/plain": [
       "Text(33.0, 0.5, 'Actuals')"
      ]
     },
     "execution_count": 42,
     "metadata": {},
     "output_type": "execute_result"
    },
    {
     "data": {
      "image/png": "[encoded data removed]",
      "text/plain": [
       "<Figure size 432x288 with 2 Axes>"
      ]
     },
     "metadata": {
      "needs_background": "light"
     },
     "output_type": "display_data"
    }
   ],
   "source": [
    "cm = confusion_matrix(model_tar, tar_pred)\n",
    "sns.heatmap(cm, annot=True, fmt='d', cmap = 'Oranges', linewidths = 0.5, linecolor='Black')\n",
    "plt.xticks(np.arange(2)+.5, ['No Def','Def'])\n",
    "plt.yticks(np.arange(2)+.5, ['No Def','Def'])\n",
    "plt.xlabel('Predicted')\n",
    "plt.ylabel('Actuals')"
   ]
  },
  {
   "cell_type": "markdown",
   "id": "e0042496",
   "metadata": {},
   "source": [
    "# Analysis and modification of testing dataset"
   ]
  },
  {
   "cell_type": "markdown",
   "id": "c46e2fa0",
   "metadata": {},
   "source": [
    "When our model is already trained on the training data, it is naturally time for us to deal with the test data. During the analysis and processing of the training data, due to a large amount of missing data, I decided to remove eight variables from our dataset. Before starting modeling on our test data (often called validation data), I must bring our test data to the exact same form as our training data currently is."
   ]
  },
  {
   "cell_type": "code",
   "execution_count": 90,
   "id": "d783dbb8",
   "metadata": {},
   "outputs": [],
   "source": [
    "# Loading test data\n",
    "test = pd.read_csv('/Users/michalpoleszczuk/Desktop/data_DS_HW_test.csv', sep=';')"
   ]
  },
  {
   "cell_type": "code",
   "execution_count": 91,
   "id": "cf3400a7",
   "metadata": {
    "scrolled": true
   },
   "outputs": [
    {
     "data": {
      "text/plain": [
       "application_id               0\n",
       "loan_date_created            0\n",
       "activeloan_coalt             0\n",
       "applicationamount            0\n",
       "applicationprice             0\n",
       "                            ..\n",
       "providerscount              13\n",
       "paidobligationscount        13\n",
       "averagepaiddebt             13\n",
       "averagepaymenttimeindays    13\n",
       "sumpaiddebt                 13\n",
       "Length: 234, dtype: int64"
      ]
     },
     "execution_count": 91,
     "metadata": {},
     "output_type": "execute_result"
    }
   ],
   "source": [
    "# Checking for missing values\n",
    "test.isnull().sum()"
   ]
  },
  {
   "cell_type": "code",
   "execution_count": 92,
   "id": "cfed3d83",
   "metadata": {},
   "outputs": [],
   "source": [
    "# I am checking whether dropped variabels are present in out test dataset\n",
    "# If print function does not execute, it means that all of those variables are present in test DS\n",
    "\n",
    "for column in dropped_variables:\n",
    "    if column not in test.columns:\n",
    "        print(f\"Column not found in DataFrame: {column}\")"
   ]
  },
  {
   "cell_type": "code",
   "execution_count": 93,
   "id": "73a6354b",
   "metadata": {},
   "outputs": [],
   "source": [
    "# Dropping so-called dropped_variables from our test DS\n",
    "test = test.drop(columns = dropped_variables)"
   ]
  },
  {
   "cell_type": "code",
   "execution_count": 94,
   "id": "cc605f1d",
   "metadata": {},
   "outputs": [],
   "source": [
    "text_columns_test = list()\n",
    "numerical_columns_test = list()\n",
    "\n",
    "for column in test.columns:\n",
    "    # Check if the data type of the column is object\n",
    "    if test[column].dtype == 'object':\n",
    "        text_columns_test.append(column)\n",
    "    else:\n",
    "        # Assuming all non-object types are numerical\n",
    "        numerical_columns_test.append(column)"
   ]
  },
  {
   "cell_type": "code",
   "execution_count": 95,
   "id": "c47cf226",
   "metadata": {},
   "outputs": [],
   "source": [
    "text_miss_var_test = list()\n",
    "num_miss_var_test = list()\n",
    "\n",
    "# Appending missing numerical variable names in test DS\n",
    "for column in numerical_columns_test:\n",
    "    if column in missing_columns:\n",
    "        num_miss_var_test.append(column)\n",
    "        \n",
    "# Printing missing textual variable names in test DS\n",
    "for column in text_columns_test:\n",
    "    if column in missing_columns:\n",
    "        text_miss_var_test.append(column)"
   ]
  },
  {
   "cell_type": "code",
   "execution_count": 96,
   "id": "ab63c3a9",
   "metadata": {},
   "outputs": [],
   "source": [
    "#Replace the missing values for numerical columns with mode\n",
    "for column in num_miss_var_test:\n",
    "    test[column] = test[column].fillna(test[column].mode()[0])\n",
    "    \n",
    "#Replace the missing values for textual columns with mode\n",
    "for column in text_miss_var_test:\n",
    "    test[column] = test[column].fillna(test[column].mode()[0])"
   ]
  },
  {
   "cell_type": "code",
   "execution_count": 97,
   "id": "1b978539",
   "metadata": {},
   "outputs": [],
   "source": [
    "# All \"object\" dtype variables will have to be changed before proceeding\n",
    "object_columns_test = test.select_dtypes(include=['object']).columns.tolist()"
   ]
  },
  {
   "cell_type": "code",
   "execution_count": 98,
   "id": "9dbb730d",
   "metadata": {},
   "outputs": [
    {
     "name": "stdout",
     "output_type": "stream",
     "text": [
      "<class 'pandas.core.frame.DataFrame'>\n",
      "RangeIndex: 4646 entries, 0 to 4645\n",
      "Data columns (total 37 columns):\n",
      " #   Column                            Non-Null Count  Dtype \n",
      "---  ------                            --------------  ----- \n",
      " 0   loan_date_created                 4646 non-null   object\n",
      " 1   applicationprice                  4646 non-null   object\n",
      " 2   avgbetweenapplications            4646 non-null   object\n",
      " 3   avgbetweenapprovedapplications    4646 non-null   object\n",
      " 4   avgextensions                     4646 non-null   object\n",
      " 5   avgloanterm                       4646 non-null   object\n",
      " 6   income_charge                     4646 non-null   object\n",
      " 7   onavgdpd                          4646 non-null   object\n",
      " 8   sum_positive_accounts             4646 non-null   object\n",
      " 9   amounttotal                       4646 non-null   object\n",
      " 10  amounttotalopen                   4646 non-null   object\n",
      " 11  citysize                          4646 non-null   object\n",
      " 12  companiesinhouse                  4646 non-null   object\n",
      " 13  decision                          4646 non-null   object\n",
      " 14  gender                            4646 non-null   object\n",
      " 15  householdsize                     4646 non-null   object\n",
      " 16  housesize                         4646 non-null   object\n",
      " 17  legalform                         4646 non-null   object\n",
      " 18  swo_ind_active_loans_amount       4646 non-null   object\n",
      " 19  swo_ind_active_loans_open_amount  4646 non-null   object\n",
      " 20  value                             4646 non-null   object\n",
      " 21  chap_coef                         4646 non-null   object\n",
      " 22  swo_ind_loans_amount_p0_1         4646 non-null   object\n",
      " 23  swo_ind_loans_amount_p0_3         4646 non-null   object\n",
      " 24  swo_ind_loans_amount_p0_7         4646 non-null   object\n",
      " 25  swo_ind_loans_amount_p0_30        4646 non-null   object\n",
      " 26  swo_ind_loans_amount_p0_90        4646 non-null   object\n",
      " 27  swo_ind_loans_amount_p0_210       4646 non-null   object\n",
      " 28  swo_ind_loans_amount_p0_360       4646 non-null   object\n",
      " 29  swo_ind_loans_amount_p0_plus      4646 non-null   object\n",
      " 30  housetype                         4646 non-null   object\n",
      " 31  identificationtype                4646 non-null   object\n",
      " 32  score_partialdecision             4646 non-null   object\n",
      " 33  avg_prepaid_days                  4646 non-null   object\n",
      " 34  amount                            4646 non-null   object\n",
      " 35  averagepaiddebt                   4646 non-null   object\n",
      " 36  sumpaiddebt                       4646 non-null   object\n",
      "dtypes: object(37)\n",
      "memory usage: 1.3+ MB\n"
     ]
    }
   ],
   "source": [
    "test[object_columns_test].info()"
   ]
  },
  {
   "cell_type": "code",
   "execution_count": 99,
   "id": "0100a1f8",
   "metadata": {},
   "outputs": [],
   "source": [
    "# Converting to datetime datatype\n",
    "test['loan_date_created'] = pd.to_datetime(test['loan_date_created'])\n",
    "# Converting to int datatype with use of unix timestamp\n",
    "test['loan_date_created'] = test['loan_date_created'].apply(lambda x: int(x.timestamp()))"
   ]
  },
  {
   "cell_type": "code",
   "execution_count": 100,
   "id": "1ce907ba",
   "metadata": {},
   "outputs": [
    {
     "name": "stdout",
     "output_type": "stream",
     "text": [
      "Column onavgdpd can't be converted to 'int64'\n",
      "Column citysize can't be converted to 'int64'\n",
      "Column companiesinhouse can't be converted to 'int64'\n",
      "Column decision can't be converted to 'int64'\n",
      "Column gender can't be converted to 'int64'\n",
      "Column householdsize can't be converted to 'int64'\n",
      "Column housesize can't be converted to 'int64'\n",
      "Column legalform can't be converted to 'int64'\n",
      "Column value can't be converted to 'int64'\n",
      "Column housetype can't be converted to 'int64'\n",
      "Column identificationtype can't be converted to 'int64'\n",
      "Column score_partialdecision can't be converted to 'int64'\n"
     ]
    },
    {
     "name": "stderr",
     "output_type": "stream",
     "text": [
      "/var/folders/gr/v5rg5xg16930jrqr4ctbsrq00000gn/T/ipykernel_82134/522355947.py:3: DeprecationWarning: `np.object` is a deprecated alias for the builtin `object`. To silence this warning, use `object` by itself. Doing this will not modify any behavior and is safe. \n",
      "Deprecated in NumPy 1.20; for more details and guidance: https://numpy.org/devdocs/release/1.20.0-notes.html#deprecations\n",
      "  if test[column].dtype == np.object or test[column].dtype == 'O':\n"
     ]
    }
   ],
   "source": [
    "# Here, we are converting all \"object\" type variables into int64\n",
    "for column in test[object_columns_test]:\n",
    "    if test[column].dtype == np.object or test[column].dtype == 'O':\n",
    "        try:\n",
    "            test[column] = test[column].str.replace(',', '').astype('int64')\n",
    "        except ValueError:\n",
    "            print(f\"Column {column} can't be converted to 'int64'\")"
   ]
  },
  {
   "cell_type": "code",
   "execution_count": 101,
   "id": "1d2765ca",
   "metadata": {},
   "outputs": [],
   "source": [
    "# Due to the problem that occurs with one variable, I decide to manually change it to the float datatype.\n",
    "test['onavgdpd'] = test['onavgdpd'].str.replace(',', '.')\n",
    "test['onavgdpd'] = test['onavgdpd'].astype(float)"
   ]
  },
  {
   "cell_type": "code",
   "execution_count": 102,
   "id": "e2c98f88",
   "metadata": {},
   "outputs": [],
   "source": [
    "categorical_var_test = ['citysize', 'companiesinhouse', 'decision', 'gender', 'householdsize', 'housesize', 'legalform', 'value', 'housetype', 'identificationtype', 'score_partialdecision']"
   ]
  },
  {
   "cell_type": "code",
   "execution_count": 103,
   "id": "db7166d9",
   "metadata": {},
   "outputs": [],
   "source": [
    "# Label encoding\n",
    "for column in test[categorical_var_test]:\n",
    "    le_test = LabelEncoder()\n",
    "    test[column] = le_test.fit_transform(test[column])"
   ]
  },
  {
   "cell_type": "code",
   "execution_count": 104,
   "id": "02b375ae",
   "metadata": {},
   "outputs": [
    {
     "data": {
      "text/html": [
       "<div>\n",
       "<style scoped>\n",
       "    .dataframe tbody tr th:only-of-type {\n",
       "        vertical-align: middle;\n",
       "    }\n",
       "\n",
       "    .dataframe tbody tr th {\n",
       "        vertical-align: top;\n",
       "    }\n",
       "\n",
       "    .dataframe thead th {\n",
       "        text-align: right;\n",
       "    }\n",
       "</style>\n",
       "<table border=\"1\" class=\"dataframe\">\n",
       "  <thead>\n",
       "    <tr style=\"text-align: right;\">\n",
       "      <th></th>\n",
       "      <th>application_id</th>\n",
       "      <th>loan_date_created</th>\n",
       "      <th>activeloan_coalt</th>\n",
       "      <th>applicationamount</th>\n",
       "      <th>applicationprice</th>\n",
       "      <th>avgbetweenapplications</th>\n",
       "      <th>avgbetweenapprovedapplications</th>\n",
       "      <th>avgextensions</th>\n",
       "      <th>avgloanterm</th>\n",
       "      <th>countapplicationsafterlastloanclose</th>\n",
       "      <th>...</th>\n",
       "      <th>oinformationcount</th>\n",
       "      <th>informationcount</th>\n",
       "      <th>debtorscount</th>\n",
       "      <th>creditorscount</th>\n",
       "      <th>amount</th>\n",
       "      <th>providerscount</th>\n",
       "      <th>paidobligationscount</th>\n",
       "      <th>averagepaiddebt</th>\n",
       "      <th>averagepaymenttimeindays</th>\n",
       "      <th>sumpaiddebt</th>\n",
       "    </tr>\n",
       "  </thead>\n",
       "  <tbody>\n",
       "    <tr>\n",
       "      <th>0</th>\n",
       "      <td>223</td>\n",
       "      <td>1581292800</td>\n",
       "      <td>1</td>\n",
       "      <td>1000</td>\n",
       "      <td>0</td>\n",
       "      <td>0</td>\n",
       "      <td>0</td>\n",
       "      <td>0</td>\n",
       "      <td>30</td>\n",
       "      <td>1</td>\n",
       "      <td>...</td>\n",
       "      <td>0.0</td>\n",
       "      <td>0.0</td>\n",
       "      <td>0.0</td>\n",
       "      <td>0.0</td>\n",
       "      <td>0</td>\n",
       "      <td>2.0</td>\n",
       "      <td>6.0</td>\n",
       "      <td>285736</td>\n",
       "      <td>0.0</td>\n",
       "      <td>1714415</td>\n",
       "    </tr>\n",
       "    <tr>\n",
       "      <th>1</th>\n",
       "      <td>20671</td>\n",
       "      <td>1614729600</td>\n",
       "      <td>0</td>\n",
       "      <td>600</td>\n",
       "      <td>0</td>\n",
       "      <td>0</td>\n",
       "      <td>0</td>\n",
       "      <td>0</td>\n",
       "      <td>0</td>\n",
       "      <td>1</td>\n",
       "      <td>...</td>\n",
       "      <td>0.0</td>\n",
       "      <td>0.0</td>\n",
       "      <td>0.0</td>\n",
       "      <td>0.0</td>\n",
       "      <td>0</td>\n",
       "      <td>1.0</td>\n",
       "      <td>4.0</td>\n",
       "      <td>184298</td>\n",
       "      <td>6.0</td>\n",
       "      <td>737191</td>\n",
       "    </tr>\n",
       "    <tr>\n",
       "      <th>2</th>\n",
       "      <td>2218</td>\n",
       "      <td>1586563200</td>\n",
       "      <td>0</td>\n",
       "      <td>200</td>\n",
       "      <td>0</td>\n",
       "      <td>0</td>\n",
       "      <td>0</td>\n",
       "      <td>0</td>\n",
       "      <td>0</td>\n",
       "      <td>1</td>\n",
       "      <td>...</td>\n",
       "      <td>0.0</td>\n",
       "      <td>0.0</td>\n",
       "      <td>0.0</td>\n",
       "      <td>0.0</td>\n",
       "      <td>0</td>\n",
       "      <td>2.0</td>\n",
       "      <td>12.0</td>\n",
       "      <td>12846</td>\n",
       "      <td>0.0</td>\n",
       "      <td>1541521</td>\n",
       "    </tr>\n",
       "    <tr>\n",
       "      <th>3</th>\n",
       "      <td>19196</td>\n",
       "      <td>1627862400</td>\n",
       "      <td>0</td>\n",
       "      <td>3000</td>\n",
       "      <td>36191</td>\n",
       "      <td>0</td>\n",
       "      <td>0</td>\n",
       "      <td>0</td>\n",
       "      <td>0</td>\n",
       "      <td>1</td>\n",
       "      <td>...</td>\n",
       "      <td>0.0</td>\n",
       "      <td>0.0</td>\n",
       "      <td>0.0</td>\n",
       "      <td>0.0</td>\n",
       "      <td>0</td>\n",
       "      <td>2.0</td>\n",
       "      <td>10.0</td>\n",
       "      <td>128699</td>\n",
       "      <td>2.0</td>\n",
       "      <td>1286988</td>\n",
       "    </tr>\n",
       "    <tr>\n",
       "      <th>4</th>\n",
       "      <td>13088</td>\n",
       "      <td>1603756800</td>\n",
       "      <td>0</td>\n",
       "      <td>2500</td>\n",
       "      <td>40211</td>\n",
       "      <td>0</td>\n",
       "      <td>0</td>\n",
       "      <td>0</td>\n",
       "      <td>0</td>\n",
       "      <td>1</td>\n",
       "      <td>...</td>\n",
       "      <td>0.0</td>\n",
       "      <td>0.0</td>\n",
       "      <td>0.0</td>\n",
       "      <td>0.0</td>\n",
       "      <td>0</td>\n",
       "      <td>2.0</td>\n",
       "      <td>5.0</td>\n",
       "      <td>5358</td>\n",
       "      <td>9.0</td>\n",
       "      <td>267902</td>\n",
       "    </tr>\n",
       "  </tbody>\n",
       "</table>\n",
       "<p>5 rows × 226 columns</p>\n",
       "</div>"
      ],
      "text/plain": [
       "   application_id  loan_date_created  activeloan_coalt  applicationamount  \\\n",
       "0             223         1581292800                 1               1000   \n",
       "1           20671         1614729600                 0                600   \n",
       "2            2218         1586563200                 0                200   \n",
       "3           19196         1627862400                 0               3000   \n",
       "4           13088         1603756800                 0               2500   \n",
       "\n",
       "   applicationprice  avgbetweenapplications  avgbetweenapprovedapplications  \\\n",
       "0                 0                       0                               0   \n",
       "1                 0                       0                               0   \n",
       "2                 0                       0                               0   \n",
       "3             36191                       0                               0   \n",
       "4             40211                       0                               0   \n",
       "\n",
       "   avgextensions  avgloanterm  countapplicationsafterlastloanclose  ...  \\\n",
       "0              0           30                                    1  ...   \n",
       "1              0            0                                    1  ...   \n",
       "2              0            0                                    1  ...   \n",
       "3              0            0                                    1  ...   \n",
       "4              0            0                                    1  ...   \n",
       "\n",
       "   oinformationcount  informationcount  debtorscount  creditorscount  amount  \\\n",
       "0                0.0               0.0           0.0             0.0       0   \n",
       "1                0.0               0.0           0.0             0.0       0   \n",
       "2                0.0               0.0           0.0             0.0       0   \n",
       "3                0.0               0.0           0.0             0.0       0   \n",
       "4                0.0               0.0           0.0             0.0       0   \n",
       "\n",
       "   providerscount  paidobligationscount  averagepaiddebt  \\\n",
       "0             2.0                   6.0           285736   \n",
       "1             1.0                   4.0           184298   \n",
       "2             2.0                  12.0            12846   \n",
       "3             2.0                  10.0           128699   \n",
       "4             2.0                   5.0             5358   \n",
       "\n",
       "   averagepaymenttimeindays  sumpaiddebt  \n",
       "0                       0.0      1714415  \n",
       "1                       6.0       737191  \n",
       "2                       0.0      1541521  \n",
       "3                       2.0      1286988  \n",
       "4                       9.0       267902  \n",
       "\n",
       "[5 rows x 226 columns]"
      ]
     },
     "execution_count": 104,
     "metadata": {},
     "output_type": "execute_result"
    }
   ],
   "source": [
    "test.head()"
   ]
  },
  {
   "cell_type": "markdown",
   "id": "ea6ae927",
   "metadata": {},
   "source": [
    "We have reached a point where our training dataset and test dataset have been brought to the same form (in terms of variables). To avoid bias, I replaced the missing values in our test set using the same methods as in the case of the training set. The last thing left for us is to determine the modeling for the target variable. I decide to present its final form as an array."
   ]
  },
  {
   "cell_type": "markdown",
   "id": "ecdde384",
   "metadata": {},
   "source": [
    "# Prediction of the target variable"
   ]
  },
  {
   "cell_type": "code",
   "execution_count": 105,
   "id": "22c2fb93",
   "metadata": {},
   "outputs": [
    {
     "data": {
      "text/plain": [
       "array([0, 1, 0, ..., 0, 0, 1])"
      ]
     },
     "execution_count": 105,
     "metadata": {},
     "output_type": "execute_result"
    }
   ],
   "source": [
    "test_predictions = model.predict(test)\n",
    "test_predictions"
   ]
  }
 ],
 "metadata": {
  "kernelspec": {
   "display_name": "Python 3 (ipykernel)",
   "language": "python",
   "name": "python3"
  },
  "language_info": {
   "codemirror_mode": {
    "name": "ipython",
    "version": 3
   },
   "file_extension": ".py",
   "mimetype": "text/x-python",
   "name": "python",
   "nbconvert_exporter": "python",
   "pygments_lexer": "ipython3",
   "version": "3.9.7"
  }
 },
 "nbformat": 4,
 "nbformat_minor": 5
}
